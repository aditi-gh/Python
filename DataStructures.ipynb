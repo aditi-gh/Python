{
  "nbformat": 4,
  "nbformat_minor": 0,
  "metadata": {
    "colab": {
      "provenance": []
    },
    "kernelspec": {
      "name": "python3",
      "display_name": "Python 3"
    },
    "language_info": {
      "name": "python"
    }
  },
  "cells": [
    {
      "cell_type": "markdown",
      "source": [
        "# Theory Questions"
      ],
      "metadata": {
        "id": "QT83b3Bg7kC4"
      }
    },
    {
      "cell_type": "markdown",
      "source": [
        "1. What are data structures, and why are they important?\n",
        "- A Data Structure is a way of organizing, storing, and managing data so that it can be used efficiently.\n",
        "Think of it as a container that holds data in a specific layout, which decides how operations like searching, inserting, deleting, and updating can be performed. They are important because:-\n",
        "    - Efficiency in Problem Solving\n",
        "    - Organized Data Management\n",
        "    - Scalability\n",
        "    - Foundation for Algorithms\n",
        "    - Real-World Applications"
      ],
      "metadata": {
        "id": "q9ukAilovFSF"
      }
    },
    {
      "cell_type": "markdown",
      "source": [
        "2. Explain the difference between mutable and immutable data types with examples.\n",
        "- Mutable Data Types - Objects whose content can be changed after creation.You can add, remove, or modify elements without creating a new object. Stored in memory as the same object even after modification. Examples in Python:\n",
        "    - List, dict, set, bytearray.\n",
        "- Immutable Data Types - Objects whose content cannot be changed after creation. Any modification creates a new object in memory. You cannot change elements, but you can reassign a new value. Examples in Python:\n",
        "    - String, int, float, tuple, frozenset, bool."
      ],
      "metadata": {
        "id": "dvC6QltCv8mp"
      }
    },
    {
      "cell_type": "markdown",
      "source": [
        "3. What are the main differences between lists and tuples in Python?\n",
        "- Mutability\n",
        "    - List: Mutable → elements can be changed, added, or removed.\n",
        "    - Tuple: Immutable → once created, elements cannot be changed.\n",
        "- Syntax\n",
        "    - List: Created with square brackets [] → my_list = [1, 2, 3]\n",
        "    - Tuple: Created with parentheses () → my_tuple = (1, 2, 3)\n",
        "- Performance\n",
        "    - List: Slower (extra overhead due to mutability).\n",
        "    - Tuple: Faster (less memory and processing overhead).\n",
        "- Functions/Methods\n",
        "    - List: Has many built-in methods (append, extend, remove, pop, etc.).\n",
        "    - Tuple: Very few methods (count, index).\n",
        "- Use Case\n",
        "    - List: When data needs to be modified frequently.\n",
        "    - Tuple: When data should be constant and protected (e.g., fixed configurations)."
      ],
      "metadata": {
        "id": "96vqBj_4wrsk"
      }
    },
    {
      "cell_type": "markdown",
      "source": [
        "4.  Describe how dictionaries store data?\n",
        "- Hash Table Mechanism\n",
        "  - Python dictionaries use a hash table under the hood.\n",
        "  - When you create a key (e.g., \"name\"), Python computes a hash value (a unique integer) for that key using the built-in hash() function.\n",
        "  - This hash value decides where in memory the corresponding value is stored.\n",
        "- Key–Value Mapping\n",
        "  - Each entry has two parts:\n",
        "    - Key → must be immutable (str, int, tuple, etc.).\n",
        "    - Value → can be any data type (mutable or immutable).\n",
        "  - Example:\n",
        "    - Hash(\"name\")  ->  \"Aditi\"\n",
        "      Hash(\"age\")   ->  20\n",
        "      Hash(\"college\")-> \"NIT\"\n",
        "- Fast Lookup (O(1) average case)\n",
        "  - When you access student[\"age\"], Python:\n",
        "    - Hashes the key \"age\".\n",
        "    - Finds the corresponding slot in the hash table.\n",
        "    - Retrieves the value 21.\n",
        "  - This makes dictionaries very fast for lookups, insertions, and deletions"
      ],
      "metadata": {
        "id": "CrepL5oHxjwa"
      }
    },
    {
      "cell_type": "markdown",
      "source": [
        "5. Why might you use a set instead of a list in Python?\n",
        "- Uniqueness of Elements\n",
        "  - Set: Automatically removes duplicates.\n",
        "  - List: Can contain duplicates, and you’d have to manually check for uniqueness.\n",
        "- Faster Membership Testing (in operator)\n",
        "  - Set: Very fast (O(1) on average, due to hash table).\n",
        "  - List: Slower (O(n), checks each element one by one).\n",
        "- Useful for Set Operations\n",
        "  - Sets provide mathematical set operations (union, intersection, difference) directly.\n",
        "  - Lists don’t have these built-in.\n",
        "- Cleaner Code When Duplicates Don’t Matter\n",
        "  - If you only care about unique items, sets are much simpler than writing extra logic to filter a list."
      ],
      "metadata": {
        "id": "Np7XkubixkEA"
      }
    },
    {
      "cell_type": "markdown",
      "source": [
        "6. What is a string in Python, and how is it different from a list?\n",
        "- String\n",
        "  - A string is a sequence of characters enclosed in single quotes ('), double quotes (\"), or triple quotes (''' / \"\"\").\n",
        "  - Strings are immutable → once created, they cannot be changed in place.\n",
        "  - Example:\n",
        "    - s1 = \"Hello\"\n",
        "    - s2 = 'Python'\n",
        "    - s3 = \"\"\"This is a multiline string\"\"\"\n",
        "- A string is different from a List in the following ways:-\n",
        "  - Data Type of Elements\n",
        "    - String → stores only characters (letters, numbers, symbols).\n",
        "    - List → can store any data type (integers, floats, strings, even other lists).\n",
        "  - Mutability\n",
        "    - String → ❌ Immutable (cannot modify characters directly).\n",
        "    - List → ✅ Mutable (can add, remove, or change elements).\n",
        "  - Methods Available\n",
        "    - String → methods for text processing (upper(), lower(), split(), replace(), etc.).\n",
        "    - List → methods for sequence manipulation (append(), remove(), sort(), extend(), etc.).\n",
        "  - Use Cases\n",
        "    - String → best for working with textual data.\n",
        "    - List → best for working with a collection of items (numbers, objects, or mixed types)."
      ],
      "metadata": {
        "id": "ycaa8aOOy4Cy"
      }
    },
    {
      "cell_type": "markdown",
      "source": [
        "7. How do tuples ensure data integrity in Python?\n",
        "- Tuples ensure data integrity in python in the following waya:-\n",
        "  - Tuples are immutable → elements cannot be changed after creation.\n",
        "  - Prevents accidental modification of data.\n",
        "  - Suitable for storing fixed values (e.g., coordinates, config data).\n",
        "  - Can be used as dictionary keys (if all elements are immutable).\n",
        "  - Ensures reliability and consistency of data in programs."
      ],
      "metadata": {
        "id": "zdH0BY-uy58s"
      }
    },
    {
      "cell_type": "markdown",
      "source": [
        "8. What is a hash table, and how does it relate to dictionaries in Python?\n",
        "- A hash table is a data structure that stores key–value pairs using a hash function to map keys to memory locations (slots).\n",
        "- It provides fast lookups, insertions, and deletions (average case O(1)).\n",
        "- Python dictionaries are implemented internally using hash tables.\n",
        "- When you access dict[key], Python hashes the key to quickly find its value.\n",
        "- Keys must be immutable & hashable so that their hash value remains constant."
      ],
      "metadata": {
        "id": "2uzvi5GFy6Tm"
      }
    },
    {
      "cell_type": "markdown",
      "source": [
        "9. Can lists contain different data types in Python?\n",
        "- In Python, lists can contain different data types because they are heterogeneous collections.\n",
        "- A single list can store integers, floats, strings, booleans, even other lists or objects."
      ],
      "metadata": {
        "id": "uGn1MsRvy6h_"
      }
    },
    {
      "cell_type": "markdown",
      "source": [
        "10. Explain why strings are immutable in Python?\n",
        "- Strings cannot be modified after creation → any change creates a new string object.\n",
        "- This design ensures data integrity and security (especially when used as dictionary keys).\n",
        "- Immutability makes strings hashable, allowing them to be used in sets and dict keys.\n",
        "- It improves memory efficiency since many programs reuse the same string objects.\n",
        "- It also simplifies thread-safety, as strings can’t be altered by different parts of a program simultaneously."
      ],
      "metadata": {
        "id": "wUW9O-0L1-HE"
      }
    },
    {
      "cell_type": "markdown",
      "source": [
        "11. What advantages do dictionaries offer over lists for certain tasks?\n",
        "- Advantages of Dictionaries over Lists\n",
        "  - Fast lookups → Dictionaries use hash tables (O(1) average), lists are O(n).\n",
        "  - Key-based access → Values can be retrieved using meaningful keys, not just numeric indexes.\n",
        "  - Uniqueness → Keys must be unique, preventing duplicate identifiers.\n",
        "  - Flexible data storage → Can map complex relationships (e.g., student_id → student_info).\n",
        "  - Clearer code → Improves readability by using descriptive keys instead of index positions.\n"
      ],
      "metadata": {
        "id": "o8PiZQ-01-dU"
      }
    },
    {
      "cell_type": "markdown",
      "source": [
        "12. Describe a scenario where using a tuple would be preferable over a list?\n",
        "- Scenario where Tuple is Preferable over List\n",
        "  - When storing fixed data that should not change, e.g., geographic coordinates (latitude, longitude).\n",
        "  - Tuples are immutable, so the data cannot be accidentally modified.\n",
        "  - Example:\n",
        "    - location = (28.61, 77.23)  #Delhi coordinates\n",
        "  - Using a list here would allow unwanted changes, risking data integrity.\n",
        "  - Tuples also use less memory and can be used as dictionary keys."
      ],
      "metadata": {
        "id": "d-m3NGJj1-pN"
      }
    },
    {
      "cell_type": "markdown",
      "source": [
        "13. How do sets handle duplicate values in Python?\n",
        "- Sets are unordered collections of unique elements.\n",
        "- If a duplicate is added, Python ignores it (keeps only one copy).\n",
        "- Example:\n",
        "    - s = {1, 2, 2, 3, 3, 3}\n",
        "    - print(s)   # {1, 2, 3}\n",
        "- This uniqueness is ensured using hashing.\n",
        "- Hence, sets automatically remove duplicates when storing elements."
      ],
      "metadata": {
        "id": "sJlgrUn-1-r-"
      }
    },
    {
      "cell_type": "markdown",
      "source": [
        "14. How does the “in” keyword work differently for lists and dictionaries?\n",
        "- For Lists\n",
        "  - Checks if a value exists in the list.\n",
        "  - Example:\n",
        "    - nums = [1, 2, 3]\n",
        "    - print(2 in nums)   # True (checks values)\n",
        "- For Dictionaries\n",
        "  - Checks if a key exists in the dictionary (not the value).\n",
        "  - Example:\n",
        "    - student = {\"name\": \"Aditi\", \"age\": 21}\n",
        "    - print(\"name\" in student)   # True (key check)\n",
        "    - print(21 in student)       # False (does not check values)"
      ],
      "metadata": {
        "id": "6XkeFCg_1-vb"
      }
    },
    {
      "cell_type": "markdown",
      "source": [
        "15. Can you modify the elements of a tuple? Explain why or why not?\n",
        "- No, we cannot modify elements of a tuple after creation.\n",
        "- Tuples are immutable in Python → their elements cannot be changed, added, or removed.\n",
        "- Example:\n",
        "  - t = (1, 2, 3)\n",
        "  - #t[0] = 10 (Error: 'tuple' object does not support item assignment)\n",
        "- Immutability ensures data integrity, hashability, and prevents accidental changes.\n",
        "- If modification is needed, you must create a new tuple."
      ],
      "metadata": {
        "id": "21qNvQr84heP"
      }
    },
    {
      "cell_type": "markdown",
      "source": [
        "16. What is a nested dictionary, and give an example of its use case?\n",
        "- A nested dictionary is a dictionary inside another dictionary.\n",
        "- It is used to represent hierarchical or structured data.\n",
        "- Example:\n",
        "  - students = {\n",
        "    \"A101\": {\"name\": \"Aditi\", \"age\": 21, \"course\": \"CS\"},\n",
        "    \"A102\": {\"name\": \"Mou\", \"age\": 22, \"course\": \"IT\"}\n",
        "      }\n",
        "  - print(students[\"A101\"][\"name\"])  # Aditi\n",
        "- Use Case:\n",
        "  - Useful for storing complex data, like student records, employee details, or JSON-like structures."
      ],
      "metadata": {
        "id": "ac7OUpPb4hie"
      }
    },
    {
      "cell_type": "markdown",
      "source": [
        "17. Describe the time complexity of accessing elements in a dictionary?\n",
        "- Dictionaries in Python use a hash table internally.\n",
        "- Average case: Accessing an element by key is O(1) → very fast (constant time).\n",
        "- Worst case: Can degrade to O(n) if many keys cause hash collisions (rare in practice).\n",
        "- Example:\n",
        "  - d = {\"a\": 1, \"b\": 2, \"c\": 3}\n",
        "  - print(d[\"b\"])   # O(1) average"
      ],
      "metadata": {
        "id": "aBPGVkgV4hmN"
      }
    },
    {
      "cell_type": "markdown",
      "source": [
        "18. In what situations are lists preferred over dictionaries?\n",
        "- When data is ordered and order matters.\n",
        "- When you need to store duplicate values.\n",
        "- When data doesn’t need a key-value mapping (just values).\n",
        "- When you need index-based access (eg., list[0]).\n",
        "- For smaller datasets where simple sequences are enough."
      ],
      "metadata": {
        "id": "8fmT5pX_4hqO"
      }
    },
    {
      "cell_type": "markdown",
      "source": [
        "19. Why are dictionaries considered unordered, and how does that affect data retrieval?\n",
        "- A dictionary stores data in a hash table, where key–value pairs are placed based on their hash values, not insertion order.\n",
        "- Before Python 3.7, dictionaries did not guarantee order; since 3.7+, they preserve insertion order, but they are still conceptually unordered mappings.\n",
        "- Effect on Retrieval:\n",
        "  - You can’t rely on the position/index of items.\n",
        "  - Data is retrieved using keys, not by order."
      ],
      "metadata": {
        "id": "7Q56ne-Y4htl"
      }
    },
    {
      "cell_type": "markdown",
      "source": [
        "20. Explain the difference between a list and a dictionary in terms of data retrieval.\n",
        "- List\n",
        "  - Data is retrieved using a numeric index (position).\n",
        "  - Example:\n",
        "    - fruits = [\"apple\", \"banana\", \"mango\"]\n",
        "    - print(fruits[1])   # \"banana\"\n",
        "- Dictionary\n",
        "  - Data is retrieved using a key (not position).\n",
        "  - Example:\n",
        "    - student = {\"name\": \"Aditi\", \"age\": 21}\n",
        "    - print(student[\"age\"])   # 21"
      ],
      "metadata": {
        "id": "SwAqIujG6tcj"
      }
    },
    {
      "cell_type": "markdown",
      "source": [
        "# Practical Questions\n"
      ],
      "metadata": {
        "id": "U6N3O1qK7sLF"
      }
    },
    {
      "cell_type": "code",
      "source": [
        "#Write a code to create a string with your name and print it.\n",
        "name = \"Aditi\"\n",
        "print(name)"
      ],
      "metadata": {
        "colab": {
          "base_uri": "https://localhost:8080/"
        },
        "id": "EJ3L7DxC79j6",
        "outputId": "a66eccba-d595-48f0-d7dd-ea6b1f4a0304"
      },
      "execution_count": 1,
      "outputs": [
        {
          "output_type": "stream",
          "name": "stdout",
          "text": [
            "Aditi\n"
          ]
        }
      ]
    },
    {
      "cell_type": "code",
      "source": [
        "#Write a code to find the length of the string \"Hello World\"\n",
        "s = \"Hello World\"\n",
        "len(s)"
      ],
      "metadata": {
        "colab": {
          "base_uri": "https://localhost:8080/"
        },
        "id": "VftkVQnQ79gY",
        "outputId": "6a4887bb-df2e-4d88-a27c-9dbda1eaa619"
      },
      "execution_count": 2,
      "outputs": [
        {
          "output_type": "execute_result",
          "data": {
            "text/plain": [
              "11"
            ]
          },
          "metadata": {},
          "execution_count": 2
        }
      ]
    },
    {
      "cell_type": "code",
      "source": [
        "#Write a code to slice the first 3 characters from the string \"Python Programming\"\n",
        "s = \"Python Programming\"\n",
        "s[:3]"
      ],
      "metadata": {
        "colab": {
          "base_uri": "https://localhost:8080/",
          "height": 35
        },
        "id": "Lmmbx_QS79dp",
        "outputId": "15d0ae1c-114a-4896-efd7-fd2808c468ae"
      },
      "execution_count": 3,
      "outputs": [
        {
          "output_type": "execute_result",
          "data": {
            "text/plain": [
              "'Pyt'"
            ],
            "application/vnd.google.colaboratory.intrinsic+json": {
              "type": "string"
            }
          },
          "metadata": {},
          "execution_count": 3
        }
      ]
    },
    {
      "cell_type": "code",
      "source": [
        "#Write a code to convert the string \"hello\" to uppercase\n",
        "s = \"hello\"\n",
        "s.upper()"
      ],
      "metadata": {
        "colab": {
          "base_uri": "https://localhost:8080/",
          "height": 35
        },
        "id": "wEke_VEq79az",
        "outputId": "ca1daa26-9d03-44a0-96c1-c6fec472f489"
      },
      "execution_count": 4,
      "outputs": [
        {
          "output_type": "execute_result",
          "data": {
            "text/plain": [
              "'HELLO'"
            ],
            "application/vnd.google.colaboratory.intrinsic+json": {
              "type": "string"
            }
          },
          "metadata": {},
          "execution_count": 4
        }
      ]
    },
    {
      "cell_type": "code",
      "source": [
        "#Write a code to replace the word \"apple\" with \"orange\" in the string \"I like apple\"\n",
        "s = \"I like apple\"\n",
        "s.replace(\"apple\", \"orange\")"
      ],
      "metadata": {
        "colab": {
          "base_uri": "https://localhost:8080/",
          "height": 35
        },
        "id": "LfeyrkAq79PO",
        "outputId": "308d91a6-7d84-4f95-e59c-ed64eb211395"
      },
      "execution_count": 5,
      "outputs": [
        {
          "output_type": "execute_result",
          "data": {
            "text/plain": [
              "'I like orange'"
            ],
            "application/vnd.google.colaboratory.intrinsic+json": {
              "type": "string"
            }
          },
          "metadata": {},
          "execution_count": 5
        }
      ]
    },
    {
      "cell_type": "code",
      "source": [
        "#Write a code to create a list with numbers 1 to 5 and print it\n",
        "l = [1, 2, 3, 4, 5]\n",
        "print(l)"
      ],
      "metadata": {
        "colab": {
          "base_uri": "https://localhost:8080/"
        },
        "id": "Y_7xOQ2b789A",
        "outputId": "0aff2ddf-73ad-4a6a-ccb6-639b84f28e70"
      },
      "execution_count": 6,
      "outputs": [
        {
          "output_type": "stream",
          "name": "stdout",
          "text": [
            "[1, 2, 3, 4, 5]\n"
          ]
        }
      ]
    },
    {
      "cell_type": "code",
      "source": [
        "#Write a code to append the number 10 to the list [1, 2, 3, 4]\n",
        "l = [1, 2, 3, 4]\n",
        "l.append(10)\n",
        "print(l)"
      ],
      "metadata": {
        "colab": {
          "base_uri": "https://localhost:8080/"
        },
        "id": "VsE5oSY88ovK",
        "outputId": "f9c4b157-5dd7-4c64-f5e7-7c36c03f2837"
      },
      "execution_count": 7,
      "outputs": [
        {
          "output_type": "stream",
          "name": "stdout",
          "text": [
            "[1, 2, 3, 4, 10]\n"
          ]
        }
      ]
    },
    {
      "cell_type": "code",
      "source": [
        "#Write a code to remove the number 3 from the list [1, 2, 3, 4, 5]\n",
        "l = [1, 2, 3, 4, 5]\n",
        "l.remove(3)\n",
        "print(l)"
      ],
      "metadata": {
        "colab": {
          "base_uri": "https://localhost:8080/"
        },
        "id": "mX3QkzAR8o34",
        "outputId": "ab8546e2-c2e3-4ce2-b799-063c80a290a6"
      },
      "execution_count": 8,
      "outputs": [
        {
          "output_type": "stream",
          "name": "stdout",
          "text": [
            "[1, 2, 4, 5]\n"
          ]
        }
      ]
    },
    {
      "cell_type": "code",
      "source": [
        "#Write a code to access the second element in the list ['a', 'b', 'c', 'd']\n",
        "l = ['a', 'b', 'c', 'd']\n",
        "l[1]"
      ],
      "metadata": {
        "colab": {
          "base_uri": "https://localhost:8080/",
          "height": 35
        },
        "id": "PRDApPqz8o64",
        "outputId": "0d14865a-aa3f-49ad-8440-c0b2741be23c"
      },
      "execution_count": 9,
      "outputs": [
        {
          "output_type": "execute_result",
          "data": {
            "text/plain": [
              "'b'"
            ],
            "application/vnd.google.colaboratory.intrinsic+json": {
              "type": "string"
            }
          },
          "metadata": {},
          "execution_count": 9
        }
      ]
    },
    {
      "cell_type": "code",
      "source": [
        "#Write a code to reverse the list [10, 20, 30, 40, 50]\n",
        "l = [10, 20, 30, 40, 50]\n",
        "l[::-1]"
      ],
      "metadata": {
        "colab": {
          "base_uri": "https://localhost:8080/"
        },
        "id": "0fB5X5h_8o93",
        "outputId": "ed736004-0dfd-4a03-fb12-9df1f380fa74"
      },
      "execution_count": 10,
      "outputs": [
        {
          "output_type": "execute_result",
          "data": {
            "text/plain": [
              "[50, 40, 30, 20, 10]"
            ]
          },
          "metadata": {},
          "execution_count": 10
        }
      ]
    },
    {
      "cell_type": "code",
      "source": [
        "#Write a code to create a tuple with the elements 100, 200, 300 and print it\n",
        "t = (100, 200, 300)\n",
        "print(t)"
      ],
      "metadata": {
        "colab": {
          "base_uri": "https://localhost:8080/"
        },
        "id": "i417GxKU8pAa",
        "outputId": "f2565cd4-011b-4a4e-8511-788b013a7366"
      },
      "execution_count": 11,
      "outputs": [
        {
          "output_type": "stream",
          "name": "stdout",
          "text": [
            "(100, 200, 300)\n"
          ]
        }
      ]
    },
    {
      "cell_type": "code",
      "source": [
        "#Write a code to access the second-to-last element of the tuple ('red', 'green', 'blue', 'yellow')\n",
        "t = ('red', 'green', 'blue', 'yellow')\n",
        "t[-2]"
      ],
      "metadata": {
        "colab": {
          "base_uri": "https://localhost:8080/",
          "height": 35
        },
        "id": "8DIAxo368pDz",
        "outputId": "f0f439d5-e65d-434c-a66e-12465f563526"
      },
      "execution_count": 12,
      "outputs": [
        {
          "output_type": "execute_result",
          "data": {
            "text/plain": [
              "'blue'"
            ],
            "application/vnd.google.colaboratory.intrinsic+json": {
              "type": "string"
            }
          },
          "metadata": {},
          "execution_count": 12
        }
      ]
    },
    {
      "cell_type": "code",
      "source": [
        "#Write a code to find the minimum number in the tuple (10, 20, 5, 15)\n",
        "t = (10, 20, 5, 15)\n",
        "min(t)"
      ],
      "metadata": {
        "colab": {
          "base_uri": "https://localhost:8080/"
        },
        "id": "_jNi_JDp9mCD",
        "outputId": "364b05ef-61f4-45b9-8655-2ebbe1de660b"
      },
      "execution_count": 13,
      "outputs": [
        {
          "output_type": "execute_result",
          "data": {
            "text/plain": [
              "5"
            ]
          },
          "metadata": {},
          "execution_count": 13
        }
      ]
    },
    {
      "cell_type": "code",
      "source": [
        "#Write a code to find the index of the element \"cat\" in the tuple ('dog', 'cat', 'rabbit')\n",
        "t = ('dog', 'cat', 'rabbit')\n",
        "t.index('cat')"
      ],
      "metadata": {
        "colab": {
          "base_uri": "https://localhost:8080/"
        },
        "id": "2aoYdC5d9l-8",
        "outputId": "edff810d-0957-426f-9ae1-12197eb4dbb9"
      },
      "execution_count": 14,
      "outputs": [
        {
          "output_type": "execute_result",
          "data": {
            "text/plain": [
              "1"
            ]
          },
          "metadata": {},
          "execution_count": 14
        }
      ]
    },
    {
      "cell_type": "code",
      "source": [
        "#Write a code to create a tuple containing three different fruits and check if \"kiwi\" is in it.\n",
        "t = (\"apple\", \"banana\", \"mango\")\n",
        "\"kiwi\" in t"
      ],
      "metadata": {
        "colab": {
          "base_uri": "https://localhost:8080/"
        },
        "id": "4_OvxnZt9l77",
        "outputId": "61e11807-86eb-4ba2-bd8c-4202cd283073"
      },
      "execution_count": 15,
      "outputs": [
        {
          "output_type": "execute_result",
          "data": {
            "text/plain": [
              "False"
            ]
          },
          "metadata": {},
          "execution_count": 15
        }
      ]
    },
    {
      "cell_type": "code",
      "source": [
        "#Write a code to create a set with the elements 'a', 'b', 'c' and print it\n",
        "my_set = {'a', 'b', 'c'}\n",
        "print(my_set)"
      ],
      "metadata": {
        "colab": {
          "base_uri": "https://localhost:8080/"
        },
        "id": "QWfjuiKz9l48",
        "outputId": "f120a686-1b0f-47ef-b889-9b0ed234112f"
      },
      "execution_count": 16,
      "outputs": [
        {
          "output_type": "stream",
          "name": "stdout",
          "text": [
            "{'b', 'c', 'a'}\n"
          ]
        }
      ]
    },
    {
      "cell_type": "code",
      "source": [
        "#Write a code to clear all elements from the set {1, 2, 3, 4, 5}.\n",
        "my_set = {1, 2, 3, 4, 5}\n",
        "my_set.clear()\n",
        "print(my_set)"
      ],
      "metadata": {
        "colab": {
          "base_uri": "https://localhost:8080/"
        },
        "id": "pOVc6z1U-by1",
        "outputId": "29273c74-8a2f-4cfd-f3fe-1ad84927d398"
      },
      "execution_count": 17,
      "outputs": [
        {
          "output_type": "stream",
          "name": "stdout",
          "text": [
            "set()\n"
          ]
        }
      ]
    },
    {
      "cell_type": "code",
      "source": [
        "#Write a code to remove the element 4 from the set {1, 2, 3, 4}.\n",
        "my_set = {1, 2, 3, 4}\n",
        "my_set.remove(4)\n",
        "print(my_set)"
      ],
      "metadata": {
        "colab": {
          "base_uri": "https://localhost:8080/"
        },
        "id": "ASn3ON0h-bva",
        "outputId": "add8bcf9-b70c-45a5-9b5b-8bb7bcbe0317"
      },
      "execution_count": 18,
      "outputs": [
        {
          "output_type": "stream",
          "name": "stdout",
          "text": [
            "{1, 2, 3}\n"
          ]
        }
      ]
    },
    {
      "cell_type": "code",
      "source": [
        "#Write a code to find the union of two sets {1, 2, 3} and {3, 4, 5}.\n",
        "s1 = {1, 2, 3}\n",
        "s2 = {3, 4, 5}\n",
        "s1.union(s2)"
      ],
      "metadata": {
        "colab": {
          "base_uri": "https://localhost:8080/"
        },
        "id": "waVI74PF-bsQ",
        "outputId": "c71041ed-3ffb-4b0c-956d-973253d490c2"
      },
      "execution_count": 19,
      "outputs": [
        {
          "output_type": "execute_result",
          "data": {
            "text/plain": [
              "{1, 2, 3, 4, 5}"
            ]
          },
          "metadata": {},
          "execution_count": 19
        }
      ]
    },
    {
      "cell_type": "code",
      "source": [
        "#Write a code to find the intersection of two sets {1, 2, 3} and {2, 3, 4}.\n",
        "s1 = {1, 2, 3}\n",
        "s2 = {2, 3, 4}\n",
        "s1.intersection(s2)"
      ],
      "metadata": {
        "colab": {
          "base_uri": "https://localhost:8080/"
        },
        "id": "48IHtgkb-bdt",
        "outputId": "c3241025-0c40-4868-9d91-ba6cc474257d"
      },
      "execution_count": 20,
      "outputs": [
        {
          "output_type": "execute_result",
          "data": {
            "text/plain": [
              "{2, 3}"
            ]
          },
          "metadata": {},
          "execution_count": 20
        }
      ]
    },
    {
      "cell_type": "code",
      "source": [
        "# Write a code to create a dictionary with the keys \"name\", \"age\", and \"city\", and print it\n",
        "my_dict = {\"name\": \"Aditi\", \"age\": 21, \"city\": \"Pune\"}\n",
        "print(my_dict)"
      ],
      "metadata": {
        "colab": {
          "base_uri": "https://localhost:8080/"
        },
        "id": "R4g5IJuF-baH",
        "outputId": "14daedb6-5cdd-47de-a035-2413020cfc41"
      },
      "execution_count": 22,
      "outputs": [
        {
          "output_type": "stream",
          "name": "stdout",
          "text": [
            "{'name': 'Aditi', 'age': 21, 'city': 'Pune'}\n"
          ]
        }
      ]
    },
    {
      "cell_type": "code",
      "source": [
        "# Write a code to add a new key-value pair \"country\": \"USA\" to the dictionary {'name': 'John', 'age': 25}.\n",
        "my_dict = {'name': 'John', 'age': 25}\n",
        "my_dict[\"country\"] = \"USA\"\n",
        "print(my_dict)"
      ],
      "metadata": {
        "colab": {
          "base_uri": "https://localhost:8080/"
        },
        "id": "GFE8hwtc_BpQ",
        "outputId": "0841008a-9550-4534-fbeb-a2bb024aee04"
      },
      "execution_count": 23,
      "outputs": [
        {
          "output_type": "stream",
          "name": "stdout",
          "text": [
            "{'name': 'John', 'age': 25, 'country': 'USA'}\n"
          ]
        }
      ]
    },
    {
      "cell_type": "code",
      "source": [
        "#Write a code to access the value associated with the key \"name\" in the dictionary {'name': 'Alice', 'age': 30}.\n",
        "my_dict = {'name': 'Alice', 'age': 30}\n",
        "my_dict[\"name\"]"
      ],
      "metadata": {
        "colab": {
          "base_uri": "https://localhost:8080/",
          "height": 35
        },
        "id": "dsjwAqj__Bs2",
        "outputId": "526e9217-bf19-4140-87d0-c27e6487b1b3"
      },
      "execution_count": 24,
      "outputs": [
        {
          "output_type": "execute_result",
          "data": {
            "text/plain": [
              "'Alice'"
            ],
            "application/vnd.google.colaboratory.intrinsic+json": {
              "type": "string"
            }
          },
          "metadata": {},
          "execution_count": 24
        }
      ]
    },
    {
      "cell_type": "code",
      "source": [
        "#Write a code to remove the key \"age\" from the dictionary {'name': 'Bob', 'age': 22, 'city': 'New York'}.\n",
        "my_dict = {'name': 'Bob', 'age': 22, 'city': 'New York'}\n",
        "del my_dict[\"age\"]\n",
        "print(my_dict)"
      ],
      "metadata": {
        "colab": {
          "base_uri": "https://localhost:8080/"
        },
        "id": "Dg6NZncV_BwR",
        "outputId": "56a1e1ab-9b4e-4bdd-ea59-000cd5f64ed9"
      },
      "execution_count": 25,
      "outputs": [
        {
          "output_type": "stream",
          "name": "stdout",
          "text": [
            "{'name': 'Bob', 'city': 'New York'}\n"
          ]
        }
      ]
    },
    {
      "cell_type": "code",
      "source": [
        "#Write a code to check if the key \"city\" exists in the dictionary {'name': 'Alice', 'city': 'Paris'}.\n",
        "my_dict = {'name': 'Alice', 'city': 'Paris'}\n",
        "\"city\" in my_dict"
      ],
      "metadata": {
        "colab": {
          "base_uri": "https://localhost:8080/"
        },
        "id": "-tJQLHnE_CBA",
        "outputId": "6c2f97d8-60be-4407-977e-6be65b67359b"
      },
      "execution_count": 26,
      "outputs": [
        {
          "output_type": "execute_result",
          "data": {
            "text/plain": [
              "True"
            ]
          },
          "metadata": {},
          "execution_count": 26
        }
      ]
    },
    {
      "cell_type": "code",
      "source": [
        "#Write a code to create a list, a tuple, and a dictionary, and print them all\n",
        "l = [1, 2, 3]\n",
        "t = (4, 5, 6)\n",
        "my_dict = {\"a\": 1, \"b\": 2, \"c\": 3}\n",
        "print(l)\n",
        "print(t)\n",
        "print(my_dict)"
      ],
      "metadata": {
        "colab": {
          "base_uri": "https://localhost:8080/"
        },
        "id": "k02IN9cI_CEN",
        "outputId": "d26ede38-5335-433c-b83f-57309779f54b"
      },
      "execution_count": 28,
      "outputs": [
        {
          "output_type": "stream",
          "name": "stdout",
          "text": [
            "[1, 2, 3]\n",
            "(4, 5, 6)\n",
            "{'a': 1, 'b': 2, 'c': 3}\n"
          ]
        }
      ]
    },
    {
      "cell_type": "code",
      "source": [
        "#Write a code to create a list of 5 random numbers between 1 and 100, sort it in ascending order, and print the result.(replaced)\n"
      ],
      "metadata": {
        "id": "Xqcl-ki5_CHm"
      },
      "execution_count": null,
      "outputs": []
    },
    {
      "cell_type": "code",
      "metadata": {
        "colab": {
          "base_uri": "https://localhost:8080/"
        },
        "id": "bdafed75",
        "outputId": "f9dcbbf2-751f-436f-e2e8-2823a086e9ed"
      },
      "source": [
        "import random\n",
        "\n",
        "# Create a list of 5 random numbers between 1 and 100\n",
        "random_numbers = random.sample(range(1, 101), 5)\n",
        "\n",
        "# Sort the list in ascending order\n",
        "random_numbers.sort()\n",
        "\n",
        "# Print the sorted list\n",
        "print(random_numbers)"
      ],
      "execution_count": 29,
      "outputs": [
        {
          "output_type": "stream",
          "name": "stdout",
          "text": [
            "[3, 36, 59, 67, 71]\n"
          ]
        }
      ]
    },
    {
      "cell_type": "code",
      "source": [
        "#Write a code to create a list with strings and print the element at the third index.\n",
        "l = [\"apple\", \"banana\", \"mango\"]\n",
        "l[2]"
      ],
      "metadata": {
        "colab": {
          "base_uri": "https://localhost:8080/",
          "height": 35
        },
        "id": "CeaAYBZXAlAA",
        "outputId": "bde5c2c4-2648-4837-c818-f313b25de4e2"
      },
      "execution_count": 30,
      "outputs": [
        {
          "output_type": "execute_result",
          "data": {
            "text/plain": [
              "'mango'"
            ],
            "application/vnd.google.colaboratory.intrinsic+json": {
              "type": "string"
            }
          },
          "metadata": {},
          "execution_count": 30
        }
      ]
    },
    {
      "cell_type": "code",
      "source": [
        "#Write a code to combine two dictionaries into one and print the result\n",
        "d1 = {\"a\": 1, \"b\": 2}\n",
        "d2 = {\"c\": 3, \"d\": 4}\n",
        "d1.update(d2)\n",
        "print(d1)"
      ],
      "metadata": {
        "colab": {
          "base_uri": "https://localhost:8080/"
        },
        "id": "aP7RB2QKAlL_",
        "outputId": "c48ab9f1-dbc9-4de1-abd0-8545f1f3af9d"
      },
      "execution_count": 31,
      "outputs": [
        {
          "output_type": "stream",
          "name": "stdout",
          "text": [
            "{'a': 1, 'b': 2, 'c': 3, 'd': 4}\n"
          ]
        }
      ]
    },
    {
      "cell_type": "code",
      "source": [
        "#Write a code to convert a list of strings into a set\n",
        "list_of_strings = [\"apple\", \"banana\", \"apple\", \"orange\"]\n",
        "set_of_strings = set(list_of_strings)\n",
        "print(set_of_strings)"
      ],
      "metadata": {
        "colab": {
          "base_uri": "https://localhost:8080/"
        },
        "id": "aTuAeuM3AlXq",
        "outputId": "27f4e00e-a88d-4bc4-f76a-efe84424e2ce"
      },
      "execution_count": 32,
      "outputs": [
        {
          "output_type": "stream",
          "name": "stdout",
          "text": [
            "{'banana', 'orange', 'apple'}\n"
          ]
        }
      ]
    }
  ]
}